{
 "cells": [
  {
   "cell_type": "markdown",
   "id": "0ad7bc40",
   "metadata": {},
   "source": [
    "## Libreta para el calculo de la variación poroelástica estimada a partir de la precipitación\n",
    "### Basado en la metodología de:\n",
    "\n",
    "Feng et al. (2021): doi: https:///doi.org/10.1029/20221BJ022650; Liu et al. (2020): https://doi.org/10.1029/2020JB019524; \n",
    "Andajani et al. (2020); Wang et al. (2017) y Rivet et al.(2015)\n",
    "\n",
    "\n",
    "##### $P(h,t) = \\displaystyle\\sum_{i=1}^{n}  \\delta p_i erfc(\\frac{h}{(4c(n-i)\\delta t)^{1/2}})$\n",
    "\n",
    "donde h es es la profundidad de infiltración, c es la difusividad hidráulica, dpi es es la variación de presión inducida por la precipitación"
   ]
  },
  {
   "cell_type": "code",
   "execution_count": 1,
   "id": "bf11f87e",
   "metadata": {},
   "outputs": [],
   "source": [
    "#Libs\n",
    "import matplotlib.pyplot as plt\n",
    "import numpy as np \n",
    "import pandas as pd\n",
    "import math\n",
    "import datetime as dt"
   ]
  },
  {
   "cell_type": "markdown",
   "id": "a1b74ae8",
   "metadata": {},
   "source": [
    "#### LECTURA DE DATOS"
   ]
  },
  {
   "cell_type": "code",
   "execution_count": 2,
   "id": "8843ce15",
   "metadata": {},
   "outputs": [
    {
     "data": {
      "text/html": [
       "<div>\n",
       "<style scoped>\n",
       "    .dataframe tbody tr th:only-of-type {\n",
       "        vertical-align: middle;\n",
       "    }\n",
       "\n",
       "    .dataframe tbody tr th {\n",
       "        vertical-align: top;\n",
       "    }\n",
       "\n",
       "    .dataframe thead th {\n",
       "        text-align: right;\n",
       "    }\n",
       "</style>\n",
       "<table border=\"1\" class=\"dataframe\">\n",
       "  <thead>\n",
       "    <tr style=\"text-align: right;\">\n",
       "      <th></th>\n",
       "      <th>Fecha de la observación</th>\n",
       "      <th>Acumulado precipitación (mm)</th>\n",
       "    </tr>\n",
       "  </thead>\n",
       "  <tbody>\n",
       "    <tr>\n",
       "      <th>0</th>\n",
       "      <td>2012-12-18</td>\n",
       "      <td>0.0</td>\n",
       "    </tr>\n",
       "    <tr>\n",
       "      <th>1</th>\n",
       "      <td>2012-12-19</td>\n",
       "      <td>0.0</td>\n",
       "    </tr>\n",
       "    <tr>\n",
       "      <th>2</th>\n",
       "      <td>2012-12-20</td>\n",
       "      <td>0.0</td>\n",
       "    </tr>\n",
       "    <tr>\n",
       "      <th>3</th>\n",
       "      <td>2012-12-21</td>\n",
       "      <td>0.0</td>\n",
       "    </tr>\n",
       "    <tr>\n",
       "      <th>4</th>\n",
       "      <td>2012-12-22</td>\n",
       "      <td>0.0</td>\n",
       "    </tr>\n",
       "    <tr>\n",
       "      <th>...</th>\n",
       "      <td>...</td>\n",
       "      <td>...</td>\n",
       "    </tr>\n",
       "    <tr>\n",
       "      <th>2949</th>\n",
       "      <td>2021-01-14</td>\n",
       "      <td>0.0</td>\n",
       "    </tr>\n",
       "    <tr>\n",
       "      <th>2950</th>\n",
       "      <td>2021-01-15</td>\n",
       "      <td>0.0</td>\n",
       "    </tr>\n",
       "    <tr>\n",
       "      <th>2951</th>\n",
       "      <td>2021-01-16</td>\n",
       "      <td>0.0</td>\n",
       "    </tr>\n",
       "    <tr>\n",
       "      <th>2952</th>\n",
       "      <td>2021-01-17</td>\n",
       "      <td>0.0</td>\n",
       "    </tr>\n",
       "    <tr>\n",
       "      <th>2953</th>\n",
       "      <td>2021-01-18</td>\n",
       "      <td>0.0</td>\n",
       "    </tr>\n",
       "  </tbody>\n",
       "</table>\n",
       "<p>2954 rows × 2 columns</p>\n",
       "</div>"
      ],
      "text/plain": [
       "     Fecha de la observación  Acumulado precipitación (mm)\n",
       "0                 2012-12-18                           0.0\n",
       "1                 2012-12-19                           0.0\n",
       "2                 2012-12-20                           0.0\n",
       "3                 2012-12-21                           0.0\n",
       "4                 2012-12-22                           0.0\n",
       "...                      ...                           ...\n",
       "2949              2021-01-14                           0.0\n",
       "2950              2021-01-15                           0.0\n",
       "2951              2021-01-16                           0.0\n",
       "2952              2021-01-17                           0.0\n",
       "2953              2021-01-18                           0.0\n",
       "\n",
       "[2954 rows x 2 columns]"
      ]
     },
     "execution_count": 2,
     "metadata": {},
     "output_type": "execute_result"
    }
   ],
   "source": [
    "df = pd.read_excel('DatosMeteo-EstNevadoDeColima-Limpios+NoGaps.xlsx',usecols = [0,10])\n",
    "df['Fecha de la observación'] = pd.to_datetime(df['Fecha de la observación']).dt.date\n",
    "df"
   ]
  },
  {
   "cell_type": "code",
   "execution_count": 3,
   "id": "54674ec6",
   "metadata": {},
   "outputs": [],
   "source": [
    "def talwani_model(h, c, sampling, rain):\n",
    "    mean_rain = rain.mean()\n",
    "    water_change = ((rain - mean_rain)**2)**0.5\n",
    "    water_change_pa = (water_change/1000) * 9.81 * 997\n",
    "    \n",
    "    def calc_erfc(h, c, sampling, x):\n",
    "        y = math.erfc(h/math.sqrt(c*4*sampling*x))\n",
    "        return y\n",
    "    \n",
    "    indexes_dict = range(1,len(rain)+100)\n",
    "    dict_erfc = {}\n",
    "    for value in indexes_dict:\n",
    "        dict_erfc[value] = calc_erfc(h=h,c=c,sampling=sampling,x=value)\n",
    "    dict_erfc[0] = 0\n",
    "    \n",
    "    model = []\n",
    "    \n",
    "    for ind,value in enumerate(water_change_pa):\n",
    "        i = ind\n",
    "        n = -i-1\n",
    "        result = 0\n",
    "        counter = 0\n",
    "        while counter > n:\n",
    "            partial = water_change_pa[i+counter] * dict_erfc[-counter]  \n",
    "            result += partial\n",
    "            counter -= 1\n",
    "        model.append(result)\n",
    "    #return model\n",
    "\n",
    "    def pore_pressure_change(series):\n",
    "        pp_change = []\n",
    "        for ind,value in enumerate(series):\n",
    "            if ind < len(model)-1:\n",
    "                pp_change.append(series[ind+1] - series[ind])\n",
    "            else:\n",
    "                break\n",
    "        return pp_change\n",
    "    \n",
    "    talwani_sol = pore_pressure_change(model)\n",
    "    return(talwani_sol)"
   ]
  },
  {
   "cell_type": "code",
   "execution_count": 8,
   "id": "dc1e8498",
   "metadata": {},
   "outputs": [],
   "source": [
    "#Difusividad (m^2/s)\n",
    "c = 1\n",
    "\n",
    "#dt, intervalo de muestreo (s)\n",
    "sampling = 86400\n",
    "#86400\n",
    "#Profundidad (m)\n",
    "h = 1000"
   ]
  },
  {
   "cell_type": "code",
   "execution_count": 9,
   "id": "57e5f521",
   "metadata": {},
   "outputs": [],
   "source": [
    "pressures = talwani_model(h=h, c=c, sampling=sampling,rain= df['Acumulado precipitación (mm)'])"
   ]
  },
  {
   "cell_type": "code",
   "execution_count": 10,
   "id": "ee1cf3dc",
   "metadata": {},
   "outputs": [
    {
     "data": {
      "text/plain": [
       "Text(0, 0.5, 'Cambios de presión (Pa)')"
      ]
     },
     "execution_count": 10,
     "metadata": {},
     "output_type": "execute_result"
    },
    {
     "data": {
      "image/png": "[encoded data removed]",
      "text/plain": [
       "<Figure size 720x360 with 1 Axes>"
      ]
     },
     "metadata": {
      "needs_background": "light"
     },
     "output_type": "display_data"
    }
   ],
   "source": [
    "plt.figure(figsize=(10,5))\n",
    "plt.title(f'Variación de presión de poro, difusividad {c} m/s^2')\n",
    "plt.plot(pressures)\n",
    "plt.xlabel('Días desde el inicio de la lluvia')\n",
    "plt.ylabel('Cambios de presión (Pa)')"
   ]
  },
  {
   "cell_type": "code",
   "execution_count": null,
   "id": "df11a1c1",
   "metadata": {},
   "outputs": [],
   "source": []
  },
  {
   "cell_type": "code",
   "execution_count": null,
   "id": "b9b86a49",
   "metadata": {},
   "outputs": [],
   "source": []
  },
  {
   "cell_type": "code",
   "execution_count": null,
   "id": "49dba299",
   "metadata": {},
   "outputs": [],
   "source": []
  },
  {
   "cell_type": "code",
   "execution_count": null,
   "id": "ceb1cc2d",
   "metadata": {},
   "outputs": [],
   "source": [
    "####Metodología desglosada"
   ]
  },
  {
   "cell_type": "markdown",
   "id": "cc35d1c7",
   "metadata": {},
   "source": [
    "#### CALCULO DEL DPI (Siguiendo la definición del cambio del nivel del agua  como la desviación de la precipitación del 2014 al 2017 respecto al promedio del 2013)"
   ]
  },
  {
   "cell_type": "code",
   "execution_count": 51,
   "id": "2feef1d2",
   "metadata": {},
   "outputs": [
    {
     "name": "stdout",
     "output_type": "stream",
     "text": [
      "El promedio de lluvias de 2012-12-18 a 2021-01-18 es: 3.5092332430602657\n"
     ]
    }
   ],
   "source": [
    "begintime=dt.date(2012,12,18)\n",
    "endtime=dt.date(2021,1,18)\n",
    "\n",
    "df2 = df.copy()\n",
    "\n",
    "df2= df2.drop(df[df['Fecha de la observación'] > endtime].index)\n",
    "df2 = df2.drop(df2[df2['Fecha de la observación']< begintime].index)\n",
    "\n",
    "mean_rain = df['Acumulado precipitación (mm)'].mean()\n",
    "print(f'El promedio de lluvias de {begintime} a {endtime} es: {mean_rain}')"
   ]
  },
  {
   "cell_type": "code",
   "execution_count": 52,
   "id": "3d54894b",
   "metadata": {},
   "outputs": [
    {
     "data": {
      "text/html": [
       "<div>\n",
       "<style scoped>\n",
       "    .dataframe tbody tr th:only-of-type {\n",
       "        vertical-align: middle;\n",
       "    }\n",
       "\n",
       "    .dataframe tbody tr th {\n",
       "        vertical-align: top;\n",
       "    }\n",
       "\n",
       "    .dataframe thead th {\n",
       "        text-align: right;\n",
       "    }\n",
       "</style>\n",
       "<table border=\"1\" class=\"dataframe\">\n",
       "  <thead>\n",
       "    <tr style=\"text-align: right;\">\n",
       "      <th></th>\n",
       "      <th>Fecha de la observación</th>\n",
       "      <th>Cambio del nivel del agua (mm)</th>\n",
       "      <th>Cambio del nivel del agua (Pa)</th>\n",
       "    </tr>\n",
       "  </thead>\n",
       "  <tbody>\n",
       "    <tr>\n",
       "      <th>0</th>\n",
       "      <td>2012-12-18</td>\n",
       "      <td>3.509233</td>\n",
       "      <td>34.322301</td>\n",
       "    </tr>\n",
       "    <tr>\n",
       "      <th>1</th>\n",
       "      <td>2012-12-19</td>\n",
       "      <td>3.509233</td>\n",
       "      <td>34.322301</td>\n",
       "    </tr>\n",
       "    <tr>\n",
       "      <th>2</th>\n",
       "      <td>2012-12-20</td>\n",
       "      <td>3.509233</td>\n",
       "      <td>34.322301</td>\n",
       "    </tr>\n",
       "    <tr>\n",
       "      <th>3</th>\n",
       "      <td>2012-12-21</td>\n",
       "      <td>3.509233</td>\n",
       "      <td>34.322301</td>\n",
       "    </tr>\n",
       "    <tr>\n",
       "      <th>4</th>\n",
       "      <td>2012-12-22</td>\n",
       "      <td>3.509233</td>\n",
       "      <td>34.322301</td>\n",
       "    </tr>\n",
       "    <tr>\n",
       "      <th>...</th>\n",
       "      <td>...</td>\n",
       "      <td>...</td>\n",
       "      <td>...</td>\n",
       "    </tr>\n",
       "    <tr>\n",
       "      <th>2949</th>\n",
       "      <td>2021-01-14</td>\n",
       "      <td>3.509233</td>\n",
       "      <td>34.322301</td>\n",
       "    </tr>\n",
       "    <tr>\n",
       "      <th>2950</th>\n",
       "      <td>2021-01-15</td>\n",
       "      <td>3.509233</td>\n",
       "      <td>34.322301</td>\n",
       "    </tr>\n",
       "    <tr>\n",
       "      <th>2951</th>\n",
       "      <td>2021-01-16</td>\n",
       "      <td>3.509233</td>\n",
       "      <td>34.322301</td>\n",
       "    </tr>\n",
       "    <tr>\n",
       "      <th>2952</th>\n",
       "      <td>2021-01-17</td>\n",
       "      <td>3.509233</td>\n",
       "      <td>34.322301</td>\n",
       "    </tr>\n",
       "    <tr>\n",
       "      <th>2953</th>\n",
       "      <td>2021-01-18</td>\n",
       "      <td>3.509233</td>\n",
       "      <td>34.322301</td>\n",
       "    </tr>\n",
       "  </tbody>\n",
       "</table>\n",
       "<p>2954 rows × 3 columns</p>\n",
       "</div>"
      ],
      "text/plain": [
       "     Fecha de la observación  Cambio del nivel del agua (mm)  \\\n",
       "0                 2012-12-18                        3.509233   \n",
       "1                 2012-12-19                        3.509233   \n",
       "2                 2012-12-20                        3.509233   \n",
       "3                 2012-12-21                        3.509233   \n",
       "4                 2012-12-22                        3.509233   \n",
       "...                      ...                             ...   \n",
       "2949              2021-01-14                        3.509233   \n",
       "2950              2021-01-15                        3.509233   \n",
       "2951              2021-01-16                        3.509233   \n",
       "2952              2021-01-17                        3.509233   \n",
       "2953              2021-01-18                        3.509233   \n",
       "\n",
       "      Cambio del nivel del agua (Pa)  \n",
       "0                          34.322301  \n",
       "1                          34.322301  \n",
       "2                          34.322301  \n",
       "3                          34.322301  \n",
       "4                          34.322301  \n",
       "...                              ...  \n",
       "2949                       34.322301  \n",
       "2950                       34.322301  \n",
       "2951                       34.322301  \n",
       "2952                       34.322301  \n",
       "2953                       34.322301  \n",
       "\n",
       "[2954 rows x 3 columns]"
      ]
     },
     "execution_count": 52,
     "metadata": {},
     "output_type": "execute_result"
    }
   ],
   "source": [
    "df3= df.copy()\n",
    "\n",
    "df3 = df3.rename(columns={'Acumulado precipitación (mm)': 'Cambio del nivel del agua (mm)'})\n",
    "#Desviacion entre la medida observada diariamente y el promedio de precipitaciones\n",
    "df3['Cambio del nivel del agua (mm)'] = ((df3['Cambio del nivel del agua (mm)'] - mean_rain)**2)**0.5\n",
    "#Conversión de mm a Pa\n",
    "df3['Cambio del nivel del agua (Pa)'] = (df3['Cambio del nivel del agua (mm)']/1000) * 9.81 * 997 \n",
    "df3"
   ]
  },
  {
   "cell_type": "code",
   "execution_count": 58,
   "id": "0b0d59ec",
   "metadata": {},
   "outputs": [],
   "source": [
    "def calc_erfc(h, c, sampling, x):\n",
    "    y = math.erfc(h/math.sqrt(c*4*sampling*x))\n",
    "    return y\n",
    "\n",
    "#def talwani_model(h, c, sampling, rain):\n",
    "    indexes_dict = range(1,3000)\n",
    "    dict_erfc = {}\n",
    "    for value in indexes_dict:\n",
    "        dict_erfc[value] = calc_erfc(h=h,c=c,sampling=sampling,x=value)\n",
    "    dict_erfc[0] = 0\n",
    "    \n",
    "    model = []\n",
    "    #n = -365\n",
    "    \n",
    "    for ind,value in enumerate(dpi):\n",
    "        i = ind\n",
    "        n = -i-1\n",
    "        result = 0\n",
    "        counter = 0\n",
    "        while counter > n:\n",
    "            partial = dpi[i+counter] * dict_erfc[-counter]  \n",
    "            result += partial\n",
    "            counter -= 1\n",
    "        model.append(result)\n",
    "    return model\n",
    "\n",
    "def pore_pressure_change(model):\n",
    "    pp_change = []\n",
    "    for ind,value in enumerate(model):\n",
    "        if ind < len(model)-1:\n",
    "            pp_change.append(model[ind+1] - model[ind])\n",
    "        else:\n",
    "            break\n",
    "    return pp_change"
   ]
  },
  {
   "cell_type": "code",
   "execution_count": 59,
   "id": "b7c8c1ac",
   "metadata": {},
   "outputs": [],
   "source": [
    "#Cambio de las cargas de agua\n",
    "dpi=df3['Cambio del nivel del agua (Pa)']\n",
    "\n",
    "#Difusividad (m^2/s)\n",
    "c = 0.5\n",
    "\n",
    "#dt, intervalo de muestreo (s)\n",
    "sampling = 86400\n",
    "#86400\n",
    "#Profundidad (m)\n",
    "h = 1000"
   ]
  },
  {
   "cell_type": "code",
   "execution_count": 60,
   "id": "c5ed05d0",
   "metadata": {},
   "outputs": [],
   "source": [
    "pressures = talwani_model(h=h, c=c, dpi=dpi,sampling=sampling)"
   ]
  },
  {
   "cell_type": "code",
   "execution_count": 61,
   "id": "58727d0c",
   "metadata": {},
   "outputs": [],
   "source": [
    "pp_change = pore_pressure_change(pressures)"
   ]
  },
  {
   "cell_type": "code",
   "execution_count": 62,
   "id": "26a1f5d7",
   "metadata": {},
   "outputs": [
    {
     "data": {
      "text/plain": [
       "[<matplotlib.lines.Line2D at 0x24d9f83c190>]"
      ]
     },
     "execution_count": 62,
     "metadata": {},
     "output_type": "execute_result"
    },
    {
     "data": {
      "image/png": "[encoded data removed]",
      "text/plain": [
       "<Figure size 720x432 with 3 Axes>"
      ]
     },
     "metadata": {
      "needs_background": "light"
     },
     "output_type": "display_data"
    }
   ],
   "source": [
    "plt.figure(figsize=(10,6))\n",
    "plt.subplot(311)\n",
    "plt.plot(df3['Fecha de la observación'],pressures)\n",
    "\n",
    "plt.subplot(312)\n",
    "plt.plot(df3['Fecha de la observación'][1:],pp_change)\n",
    "\n",
    "plt.subplot(313)\n",
    "plt.plot(df3['Fecha de la observación'],df['Acumulado precipitación (mm)'])"
   ]
  },
  {
   "cell_type": "code",
   "execution_count": null,
   "id": "23972655",
   "metadata": {},
   "outputs": [],
   "source": []
  }
 ],
 "metadata": {
  "kernelspec": {
   "display_name": "Python 3 (ipykernel)",
   "language": "python",
   "name": "python3"
  },
  "language_info": {
   "codemirror_mode": {
    "name": "ipython",
    "version": 3
   },
   "file_extension": ".py",
   "mimetype": "text/x-python",
   "name": "python",
   "nbconvert_exporter": "python",
   "pygments_lexer": "ipython3",
   "version": "3.9.13"
  }
 },
 "nbformat": 4,
 "nbformat_minor": 5
}
